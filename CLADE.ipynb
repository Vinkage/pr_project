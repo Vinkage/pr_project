{
  "nbformat": 4,
  "nbformat_minor": 0,
  "metadata": {
    "colab": {
      "name": "CLADE.ipynb",
      "provenance": [],
      "collapsed_sections": [],
      "toc_visible": true
    },
    "kernelspec": {
      "name": "python3",
      "display_name": "Python 3",
      "language": "python"
    },
    "accelerator": "GPU"
  },
  "cells": [
    {
      "cell_type": "code",
      "metadata": {
        "colab": {
          "base_uri": "https://localhost:8080/"
        },
        "id": "3KHj1kX7z_B2",
        "outputId": "16d6f6ca-afaa-4cd1-ad0f-05ddc5876b9b"
      },
      "source": [
        "# Check nvidia and nvcc cuda compiler\r\n",
        "\r\n",
        "!nvidia-smi\r\n",
        "!/usr/local/cuda/bin/nvcc --version"
      ],
      "execution_count": null,
      "outputs": []
    },
    {
      "cell_type": "code",
      "metadata": {
        "colab": {
          "base_uri": "https://localhost:8080/"
        },
        "id": "Mdutxc2H57Wv",
        "outputId": "90df10db-9ac8-4892-950a-8c71523f1e20"
      },
      "source": [
        "!git clone https://github.com/tzt101/CLADE.git CLADE\r\n",
        "\r\n",
        "# file = \"/content/CLADE/requirements.txt\"\r\n",
        "# with open(file) as f:\r\n",
        "#   lines = f.readlines()\r\n",
        "# lines[0] = \"torch==1.6.0\\n\"\r\n",
        "# with open(file, \"w\") as f:\r\n",
        "#   f.writelines(lines)\r\n",
        "\r\n",
        "# !pip install -r CLADE/requirements.txt"
      ],
      "execution_count": null,
      "outputs": []
    },
    {
      "cell_type": "code",
      "metadata": {
        "colab": {
          "base_uri": "https://localhost:8080/"
        },
        "id": "WDJ4L2vZSZbX",
        "outputId": "02c84f36-ade8-4fd7-e515-4b528e60c269"
      },
      "source": [
        "# torch=1.6.0\r\n",
        "# torchvision\r\n",
        "# dominate>=2.3.1\r\n",
        "# !pip install dill\r\n",
        "# !pip install scikit-image\r\n",
        "!pip install dominate"
      ],
      "execution_count": null,
      "outputs": []
    },
    {
      "cell_type": "code",
      "metadata": {
        "colab": {
          "base_uri": "https://localhost:8080/"
        },
        "id": "drhBeGCrNR-M",
        "outputId": "7a6b9a0e-036b-461b-e05e-a0cc76e9561e"
      },
      "source": [
        "!python CLADE/train.py --name adeoutdoor_test --dataset_mode ade20koutdoor --dataroot \"Datasets/\" --checkpoints_dir \"CLADE/Checkpoints/\" --batchSize 4"
      ],
      "execution_count": null,
      "outputs": []
    },
    {
      "cell_type": "code",
      "metadata": {
        "id": "GDZlzcAjgQNb"
      },
      "source": [
        "from google.colab import drive\r\n",
        "drive.mount('/content/drive')"
      ],
      "execution_count": null,
      "outputs": []
    },
    {
      "cell_type": "markdown",
      "metadata": {
        "id": "8A_j4zoYgLFx"
      },
      "source": [
        "# Datasets"
      ]
    },
    {
      "cell_type": "code",
      "metadata": {
        "id": "oIBJfzIaG-76"
      },
      "source": [
        "import urllib.request\r\n",
        "!mkdir Datasets\r\n",
        "# urllib.request.urlretrieve(\"http://data.csail.mit.edu/places/ADEchallenge/ADEChallengeData2016.zip\", \"Datasets/ADEChallengeData2016.zip\")\r\n",
        "# urllib.request.urlretrieve(\"http://images.cocodataset.org/zips/train2017.zip\", \"Datasets/train2017.zip\")\r\n",
        "# urllib.request.urlretrieve(\"http://images.cocodataset.org/annotations/annotations_trainval2017.zip\", \"Datasets/annotations_trainval2017.zip\")\r\n",
        "# urllib.request.urlretrieve(\"http://images.cocodataset.org/zips/val2017.zip\", \"Datasets/val2017.zip\")\r\n",
        "# urllib.request.urlretrieve(\"https://mab.to/7cnM68u20\", \"Datasets/city.zip\")\r\n",
        "\r\n",
        "\r\n",
        "# From drive\r\n",
        "# urllib.request.urlretrieve(\"http://calvin.inf.ed.ac.uk/wp-content/uploads/data/cocostuffdataset/stuffthingmaps_trainval2017.zip\", \"Datasets/stuffthingmaps_trainval2017.zip\")"
      ],
      "execution_count": null,
      "outputs": []
    },
    {
      "cell_type": "code",
      "metadata": {
        "id": "CqnwCM0F6BTf"
      },
      "source": [
        "import zipfile\n",
        "# with zipfile.ZipFile(\"/content/Datasets/ADEChallengeData2016.zip\", 'r') as zip_ref:\n",
        "#   zip_ref.extractall(\"/content/Datasets/\")\n",
        "\n",
        "# with zipfile.ZipFile(\"/content/Datasets/train2017.zip\", 'r') as zip_ref:\n",
        "#   zip_ref.extractall(\"/content/Datasets/\")\n",
        "\n",
        "# with zipfile.ZipFile(\"/content/Datasets/annotations_trainval2017.zip\", 'r') as zip_ref:\n",
        "#   zip_ref.extractall(\"/content/Datasets/\")\n",
        "\n",
        "# with zipfile.ZipFile(\"/content/Datasets/ADEChallengeData2016.zip\", 'r') as zip_ref:\n",
        "#   zip_ref.extractall(\"/content/Datasets/\")\n",
        "\n",
        "# with zipfile.ZipFile(\"drive/MyDrive/Pattern recognition project/Datasets/ADE20K_Outdoor.zip\", 'r') as zip_ref:\n",
        "#   zip_ref.extractall(\"/content/Datasets/\")\n",
        "\n",
        "# with zipfile.ZipFile(\"drive/MyDrive/Pattern recognition project/Datasets/gtFine_trainvaltest.zip\", 'r') as zip_ref:\n",
        "#   zip_ref.extractall(\"/content/Datasets/\")\n",
        "\n",
        "# with zipfile.ZipFile(\"drive/MyDrive/Pattern recognition project/Datasets/stuffthingmaps_trainval2017.zip\", 'r') as zip_ref:\n",
        "#   zip_ref.extractall(\"/content/Datasets/stuff/\")"
      ],
      "execution_count": null,
      "outputs": []
    }
  ]
}