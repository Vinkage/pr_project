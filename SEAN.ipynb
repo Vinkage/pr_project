{
  "nbformat": 4,
  "nbformat_minor": 0,
  "metadata": {
    "colab": {
      "name": "SEAN.ipynb",
      "provenance": []
    },
    "kernelspec": {
      "name": "python3",
      "display_name": "Python 3"
    },
    "accelerator": "GPU"
  },
  "cells": [
    {
      "cell_type": "code",
      "metadata": {
        "colab": {
          "base_uri": "https://localhost:8080/"
        },
        "id": "_lbwk5lFXLTZ",
        "outputId": "3a1d37ed-5533-46b5-bed4-1c1ece485834"
      },
      "source": [
        "# Check nvidia and nvcc cuda compiler\r\n",
        "\r\n",
        "!nvidia-smi\r\n",
        "!/usr/local/cuda/bin/nvcc --version"
      ],
      "execution_count": 1,
      "outputs": [
        {
          "output_type": "stream",
          "text": [
            "Mon Dec 28 12:40:58 2020       \n",
            "+-----------------------------------------------------------------------------+\n",
            "| NVIDIA-SMI 460.27.04    Driver Version: 418.67       CUDA Version: 10.1     |\n",
            "|-------------------------------+----------------------+----------------------+\n",
            "| GPU  Name        Persistence-M| Bus-Id        Disp.A | Volatile Uncorr. ECC |\n",
            "| Fan  Temp  Perf  Pwr:Usage/Cap|         Memory-Usage | GPU-Util  Compute M. |\n",
            "|                               |                      |               MIG M. |\n",
            "|===============================+======================+======================|\n",
            "|   0  Tesla T4            Off  | 00000000:00:04.0 Off |                    0 |\n",
            "| N/A   35C    P8     9W /  70W |      0MiB / 15079MiB |      0%      Default |\n",
            "|                               |                      |                 ERR! |\n",
            "+-------------------------------+----------------------+----------------------+\n",
            "                                                                               \n",
            "+-----------------------------------------------------------------------------+\n",
            "| Processes:                                                                  |\n",
            "|  GPU   GI   CI        PID   Type   Process name                  GPU Memory |\n",
            "|        ID   ID                                                   Usage      |\n",
            "|=============================================================================|\n",
            "|  No running processes found                                                 |\n",
            "+-----------------------------------------------------------------------------+\n",
            "nvcc: NVIDIA (R) Cuda compiler driver\n",
            "Copyright (c) 2005-2019 NVIDIA Corporation\n",
            "Built on Sun_Jul_28_19:07:16_PDT_2019\n",
            "Cuda compilation tools, release 10.1, V10.1.243\n"
          ],
          "name": "stdout"
        }
      ]
    },
    {
      "cell_type": "code",
      "metadata": {
        "colab": {
          "base_uri": "https://localhost:8080/"
        },
        "id": "NqxohjzcXac7",
        "outputId": "d3372d90-bb8c-46d9-a13f-1209ba6f016f"
      },
      "source": [
        "!git clone https://github.com/ZPdesu/SEAN.git SEAN\r\n",
        "\r\n",
        "# file = \"/content/CLADE/requirements.txt\"\r\n",
        "# with open(file) as f:\r\n",
        "#   lines = f.readlines()\r\n",
        "# lines[0] = \"torch==1.6.0\\n\"\r\n",
        "# with open(file, \"w\") as f:\r\n",
        "#   f.writelines(lines)\r\n"
      ],
      "execution_count": 2,
      "outputs": [
        {
          "output_type": "stream",
          "text": [
            "Cloning into 'SEAN'...\n",
            "remote: Enumerating objects: 288, done.\u001b[K\n",
            "remote: Counting objects: 100% (288/288), done.\u001b[K\n",
            "remote: Compressing objects: 100% (250/250), done.\u001b[K\n",
            "remote: Total 602 (delta 70), reused 230 (delta 30), pack-reused 314\u001b[K\n",
            "Receiving objects: 100% (602/602), 89.39 MiB | 42.87 MiB/s, done.\n",
            "Resolving deltas: 100% (81/81), done.\n"
          ],
          "name": "stdout"
        }
      ]
    },
    {
      "cell_type": "code",
      "metadata": {
        "colab": {
          "base_uri": "https://localhost:8080/"
        },
        "id": "8VvI8cMMXvjW",
        "outputId": "57254dbb-5a6f-4542-ac23-18ad347f735e"
      },
      "source": [
        "# !pip install -r SEAN/requirements.txt\r\n",
        "!pip install dominate"
      ],
      "execution_count": 19,
      "outputs": [
        {
          "output_type": "stream",
          "text": [
            "Collecting dominate\n",
            "  Downloading https://files.pythonhosted.org/packages/ef/a8/4354f8122c39e35516a2708746d89db5e339c867abbd8e0179bccee4b7f9/dominate-2.6.0-py2.py3-none-any.whl\n",
            "Installing collected packages: dominate\n",
            "Successfully installed dominate-2.6.0\n"
          ],
          "name": "stdout"
        }
      ]
    },
    {
      "cell_type": "code",
      "metadata": {
        "colab": {
          "base_uri": "https://localhost:8080/"
        },
        "id": "gvkzopR0YWqf",
        "outputId": "2cc2c31d-66b3-436d-eb8c-10a54a275c8e"
      },
      "source": [
        "# !pip install googledrivedownloader\r\n",
        "\r\n",
        "from google_drive_downloader import GoogleDriveDownloader as gdd\r\n",
        "\r\n",
        "gdd.download_file_from_google_drive(file_id='1TKhN9kDvJEcpbIarwsd1_fsTR2vGx6LC',\r\n",
        "                                    dest_path='/content/Datasets/celebs.zip',\r\n",
        "                                    unzip=True)\r\n",
        "# /content/Datasets/CelebA-HQ/"
      ],
      "execution_count": 16,
      "outputs": [
        {
          "output_type": "stream",
          "text": [
            "Downloading 1TKhN9kDvJEcpbIarwsd1_fsTR2vGx6LC into /content/Datasets/celebs.zip... Done.\n",
            "Unzipping...Done.\n"
          ],
          "name": "stdout"
        }
      ]
    },
    {
      "cell_type": "code",
      "metadata": {
        "colab": {
          "base_uri": "https://localhost:8080/"
        },
        "id": "qG16jobbX7F7",
        "outputId": "d2145233-51d6-4489-ee62-675a8931a77e"
      },
      "source": [
        "!python /content/SEAN/train.py --name CelebA-hq-Rick1 --load_size 256 --crop_size 256 --dataset_mode custom --label_dir /content/Datasets/CelebA-HQ/train/labels --image_dir /content/Datasets/CelebA-HQ/train/images --label_nc 19 --no_instance --batchSize 4 --gpu_ids 0"
      ],
      "execution_count": null,
      "outputs": [
        {
          "output_type": "stream",
          "text": [
            "----------------- Options ---------------\n",
            "            D_steps_per_G: 1                             \n",
            "             aspect_ratio: 1.0                           \n",
            "                batchSize: 4                             \t[default: 1]\n",
            "                    beta1: 0.5                           \n",
            "                    beta2: 0.999                         \n",
            "      cache_filelist_read: False                         \n",
            "     cache_filelist_write: False                         \n",
            "          checkpoints_dir: ./checkpoints                 \n",
            "   contain_dontcare_label: False                         \n",
            "           continue_train: False                         \n",
            "                crop_size: 256                           \n",
            "                 dataroot: ./datasets/cityscapes/        \n",
            "             dataset_mode: custom                        \t[default: coco]\n",
            "                    debug: False                         \n",
            "             display_freq: 100                           \n",
            "          display_winsize: 256                           \n",
            "                 gan_mode: hinge                         \n",
            "                  gpu_ids: 0                             \n",
            "                image_dir: /content/Datasets/CelebA-HQ/train/images\t[default: None]\n",
            "                init_type: xavier                        \n",
            "            init_variance: 0.02                          \n",
            "             instance_dir:                               \n",
            "                  isTrain: True                          \t[default: None]\n",
            "                label_dir: /content/Datasets/CelebA-HQ/train/labels\t[default: None]\n",
            "                 label_nc: 19                            \t[default: 13]\n",
            "              lambda_feat: 10.0                          \n",
            "               lambda_kld: 0.005                         \n",
            "               lambda_vgg: 10.0                          \n",
            "       load_from_opt_file: False                         \n",
            "                load_size: 256                           \t[default: 286]\n",
            "                       lr: 0.0002                        \n",
            "         max_dataset_size: 9223372036854775807           \n",
            "                    model: pix2pix                       \n",
            "                 nThreads: 28                            \n",
            "               n_layers_D: 3                             \n",
            "                     name: CelebA-hq-Rick1               \t[default: label2coco]\n",
            "                      ndf: 64                            \n",
            "                      nef: 16                            \n",
            "                     netD: multiscale                    \n",
            "             netD_subarch: n_layer                       \n",
            "                     netG: spade                         \n",
            "                      ngf: 64                            \n",
            "                    niter: 50                            \n",
            "              niter_decay: 50                            \n",
            "                  no_TTUR: False                         \n",
            "                  no_flip: False                         \n",
            "          no_ganFeat_loss: False                         \n",
            "                  no_html: False                         \n",
            "              no_instance: True                          \t[default: False]\n",
            "         no_pairing_check: False                         \n",
            "              no_vgg_loss: False                         \n",
            "                   norm_D: spectralinstance              \n",
            "                   norm_E: spectralinstance              \n",
            "                   norm_G: spectralspadesyncbatch3x3     \n",
            "                    num_D: 2                             \n",
            "    num_upsampling_layers: normal                        \n",
            "                optimizer: adam                          \n",
            "                output_nc: 3                             \n",
            "                    phase: train                         \n",
            "          preprocess_mode: resize_and_crop               \n",
            "               print_freq: 100                           \n",
            "          save_epoch_freq: 10                            \n",
            "         save_latest_freq: 5000                          \n",
            "           serial_batches: False                         \n",
            "                   status: train                         \n",
            "                   tf_log: False                         \n",
            "                  use_vae: False                         \n",
            "              which_epoch: latest                        \n",
            "                    z_dim: 256                           \n",
            "----------------- End -------------------\n",
            "/content/SEAN/train.py --name CelebA-hq-Rick1 --load_size 256 --crop_size 256 --dataset_mode custom --label_dir /content/Datasets/CelebA-HQ/train/labels --image_dir /content/Datasets/CelebA-HQ/train/images --label_nc 19 --no_instance --batchSize 4 --gpu_ids 0\n",
            "dataset [CustomDataset] of size 28000 was created\n",
            "Network [SPADEGenerator] was created. Total number of parameters: 266.9 million. To see the architecture, do print(network).\n",
            "Network [MultiscaleDiscriminator] was created. Total number of parameters: 1.4 million. To see the architecture, do print(network).\n",
            "create web directory ./checkpoints/CelebA-hq-Rick1/web...\n",
            "/usr/local/lib/python3.6/dist-packages/torch/nn/functional.py:1639: UserWarning: nn.functional.sigmoid is deprecated. Use torch.sigmoid instead.\n",
            "  warnings.warn(\"nn.functional.sigmoid is deprecated. Use torch.sigmoid instead.\")\n",
            "/usr/local/lib/python3.6/dist-packages/torch/nn/functional.py:1628: UserWarning: nn.functional.tanh is deprecated. Use torch.tanh instead.\n",
            "  warnings.warn(\"nn.functional.tanh is deprecated. Use torch.tanh instead.\")\n",
            "(epoch: 1, iters: 100, time: 1.149) GAN: -0.058 GAN_Feat: 6.365 VGG: 9.294 D_Fake: 1.158 D_real: 0.719 \n",
            "(epoch: 1, iters: 200, time: 1.136) GAN: 0.486 GAN_Feat: 5.009 VGG: 8.503 D_Fake: 0.593 D_real: 1.410 \n",
            "(epoch: 1, iters: 300, time: 1.158) GAN: -0.059 GAN_Feat: 6.974 VGG: 7.543 D_Fake: 1.089 D_real: 0.714 \n",
            "(epoch: 1, iters: 400, time: 1.122) GAN: -0.247 GAN_Feat: 6.176 VGG: 9.158 D_Fake: 1.256 D_real: 0.708 \n",
            "(epoch: 1, iters: 500, time: 1.142) GAN: -0.175 GAN_Feat: 7.588 VGG: 8.083 D_Fake: 1.134 D_real: 0.599 \n",
            "(epoch: 1, iters: 600, time: 1.142) GAN: -0.019 GAN_Feat: 7.943 VGG: 9.023 D_Fake: 1.127 D_real: 0.547 \n",
            "(epoch: 1, iters: 700, time: 1.157) GAN: 0.197 GAN_Feat: 5.309 VGG: 7.712 D_Fake: 0.862 D_real: 1.087 \n",
            "(epoch: 1, iters: 800, time: 1.219) GAN: 0.349 GAN_Feat: 8.361 VGG: 9.129 D_Fake: 1.008 D_real: 0.479 \n",
            "(epoch: 1, iters: 900, time: 1.106) GAN: 0.876 GAN_Feat: 7.727 VGG: 7.763 D_Fake: 0.561 D_real: 0.794 \n"
          ],
          "name": "stdout"
        }
      ]
    }
  ]
}